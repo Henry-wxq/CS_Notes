{
 "cells": [
  {
   "cell_type": "markdown",
   "source": [
    "## Basics of Pandas"
   ],
   "metadata": {
    "collapsed": false
   },
   "id": "947e9f5efdef99a7"
  },
  {
   "cell_type": "code",
   "execution_count": 34,
   "id": "initial_id",
   "metadata": {
    "collapsed": true,
    "ExecuteTime": {
     "end_time": "2023-08-04T13:13:07.521235Z",
     "start_time": "2023-08-04T13:13:07.497421Z"
    }
   },
   "outputs": [],
   "source": [
    "import pandas as pd"
   ]
  },
  {
   "cell_type": "markdown",
   "source": [
    "### Load the File"
   ],
   "metadata": {
    "collapsed": false
   },
   "id": "cf0401a04acec939"
  },
  {
   "cell_type": "code",
   "execution_count": 35,
   "outputs": [],
   "source": [
    "# get the path of csv file\n",
    "csv_path = './0_coffee_ratings.csv'"
   ],
   "metadata": {
    "collapsed": false,
    "ExecuteTime": {
     "end_time": "2023-08-04T13:13:07.522077Z",
     "start_time": "2023-08-04T13:13:07.502421Z"
    }
   },
   "id": "3cd9ff1788168942"
  },
  {
   "cell_type": "code",
   "execution_count": 36,
   "outputs": [],
   "source": [
    "# load the file as dataframe\n",
    "df = pd.read_csv(csv_path)\n",
    "\n",
    "# load the excel file is the same which we use:\n",
    "# pd.read_excel(xlsx_path)"
   ],
   "metadata": {
    "collapsed": false,
    "ExecuteTime": {
     "end_time": "2023-08-04T13:13:07.545793Z",
     "start_time": "2023-08-04T13:13:07.506431Z"
    }
   },
   "id": "3612e04e0b6c89cb"
  },
  {
   "cell_type": "markdown",
   "source": [
    "### Examine the Dataframe"
   ],
   "metadata": {
    "collapsed": false
   },
   "id": "1762f8f3b930c843"
  },
  {
   "cell_type": "code",
   "execution_count": 37,
   "outputs": [
    {
     "data": {
      "text/plain": "   total_cup_points  species                     owner country_of_origin  \\\n0             90.58  Arabica                 metad plc          Ethiopia   \n1             89.92  Arabica                 metad plc          Ethiopia   \n2             89.75  Arabica  grounds for health admin         Guatemala   \n3             89.00  Arabica       yidnekachew dabessa          Ethiopia   \n4             88.83  Arabica                 metad plc          Ethiopia   \n\n                                  farm_name       mill  \\\n0                                 metad plc  metad plc   \n1                                 metad plc  metad plc   \n2  san marcos barrancas \"san cristobal cuch        NaN   \n3     yidnekachew dabessa coffee plantation    wolensu   \n4                                 metad plc  metad plc   \n\n                                 company       altitude        region  \\\n0      metad agricultural developmet plc      1950-2200  guji-hambela   \n1      metad agricultural developmet plc      1950-2200  guji-hambela   \n2                                    NaN  1600 - 1800 m           NaN   \n3  yidnekachew debessa coffee plantation      1800-2200        oromia   \n4      metad agricultural developmet plc      1950-2200  guji-hambela   \n\n                                producer  ... category_one_defects quakers  \\\n0                              METAD PLC  ...                    0     0.0   \n1                              METAD PLC  ...                    0     0.0   \n2                                    NaN  ...                    0     0.0   \n3  Yidnekachew Dabessa Coffee Plantation  ...                    0     0.0   \n4                              METAD PLC  ...                    0     0.0   \n\n   color category_two_defects        expiration  \\\n0  Green                    0   April 3rd, 2016   \n1  Green                    1   April 3rd, 2016   \n2    NaN                    0    May 31st, 2011   \n3  Green                    2  March 25th, 2016   \n4  Green                    2   April 3rd, 2016   \n\n                   certification_body  unit_of_measurement  \\\n0  METAD Agricultural Development plc                    m   \n1  METAD Agricultural Development plc                    m   \n2        Specialty Coffee Association                    m   \n3  METAD Agricultural Development plc                    m   \n4  METAD Agricultural Development plc                    m   \n\n   altitude_low_meters  altitude_high_meters  altitude_mean_meters  \n0               1950.0                2200.0                2075.0  \n1               1950.0                2200.0                2075.0  \n2               1600.0                1800.0                1700.0  \n3               1800.0                2200.0                2000.0  \n4               1950.0                2200.0                2075.0  \n\n[5 rows x 36 columns]",
      "text/html": "<div>\n<style scoped>\n    .dataframe tbody tr th:only-of-type {\n        vertical-align: middle;\n    }\n\n    .dataframe tbody tr th {\n        vertical-align: top;\n    }\n\n    .dataframe thead th {\n        text-align: right;\n    }\n</style>\n<table border=\"1\" class=\"dataframe\">\n  <thead>\n    <tr style=\"text-align: right;\">\n      <th></th>\n      <th>total_cup_points</th>\n      <th>species</th>\n      <th>owner</th>\n      <th>country_of_origin</th>\n      <th>farm_name</th>\n      <th>mill</th>\n      <th>company</th>\n      <th>altitude</th>\n      <th>region</th>\n      <th>producer</th>\n      <th>...</th>\n      <th>category_one_defects</th>\n      <th>quakers</th>\n      <th>color</th>\n      <th>category_two_defects</th>\n      <th>expiration</th>\n      <th>certification_body</th>\n      <th>unit_of_measurement</th>\n      <th>altitude_low_meters</th>\n      <th>altitude_high_meters</th>\n      <th>altitude_mean_meters</th>\n    </tr>\n  </thead>\n  <tbody>\n    <tr>\n      <th>0</th>\n      <td>90.58</td>\n      <td>Arabica</td>\n      <td>metad plc</td>\n      <td>Ethiopia</td>\n      <td>metad plc</td>\n      <td>metad plc</td>\n      <td>metad agricultural developmet plc</td>\n      <td>1950-2200</td>\n      <td>guji-hambela</td>\n      <td>METAD PLC</td>\n      <td>...</td>\n      <td>0</td>\n      <td>0.0</td>\n      <td>Green</td>\n      <td>0</td>\n      <td>April 3rd, 2016</td>\n      <td>METAD Agricultural Development plc</td>\n      <td>m</td>\n      <td>1950.0</td>\n      <td>2200.0</td>\n      <td>2075.0</td>\n    </tr>\n    <tr>\n      <th>1</th>\n      <td>89.92</td>\n      <td>Arabica</td>\n      <td>metad plc</td>\n      <td>Ethiopia</td>\n      <td>metad plc</td>\n      <td>metad plc</td>\n      <td>metad agricultural developmet plc</td>\n      <td>1950-2200</td>\n      <td>guji-hambela</td>\n      <td>METAD PLC</td>\n      <td>...</td>\n      <td>0</td>\n      <td>0.0</td>\n      <td>Green</td>\n      <td>1</td>\n      <td>April 3rd, 2016</td>\n      <td>METAD Agricultural Development plc</td>\n      <td>m</td>\n      <td>1950.0</td>\n      <td>2200.0</td>\n      <td>2075.0</td>\n    </tr>\n    <tr>\n      <th>2</th>\n      <td>89.75</td>\n      <td>Arabica</td>\n      <td>grounds for health admin</td>\n      <td>Guatemala</td>\n      <td>san marcos barrancas \"san cristobal cuch</td>\n      <td>NaN</td>\n      <td>NaN</td>\n      <td>1600 - 1800 m</td>\n      <td>NaN</td>\n      <td>NaN</td>\n      <td>...</td>\n      <td>0</td>\n      <td>0.0</td>\n      <td>NaN</td>\n      <td>0</td>\n      <td>May 31st, 2011</td>\n      <td>Specialty Coffee Association</td>\n      <td>m</td>\n      <td>1600.0</td>\n      <td>1800.0</td>\n      <td>1700.0</td>\n    </tr>\n    <tr>\n      <th>3</th>\n      <td>89.00</td>\n      <td>Arabica</td>\n      <td>yidnekachew dabessa</td>\n      <td>Ethiopia</td>\n      <td>yidnekachew dabessa coffee plantation</td>\n      <td>wolensu</td>\n      <td>yidnekachew debessa coffee plantation</td>\n      <td>1800-2200</td>\n      <td>oromia</td>\n      <td>Yidnekachew Dabessa Coffee Plantation</td>\n      <td>...</td>\n      <td>0</td>\n      <td>0.0</td>\n      <td>Green</td>\n      <td>2</td>\n      <td>March 25th, 2016</td>\n      <td>METAD Agricultural Development plc</td>\n      <td>m</td>\n      <td>1800.0</td>\n      <td>2200.0</td>\n      <td>2000.0</td>\n    </tr>\n    <tr>\n      <th>4</th>\n      <td>88.83</td>\n      <td>Arabica</td>\n      <td>metad plc</td>\n      <td>Ethiopia</td>\n      <td>metad plc</td>\n      <td>metad plc</td>\n      <td>metad agricultural developmet plc</td>\n      <td>1950-2200</td>\n      <td>guji-hambela</td>\n      <td>METAD PLC</td>\n      <td>...</td>\n      <td>0</td>\n      <td>0.0</td>\n      <td>Green</td>\n      <td>2</td>\n      <td>April 3rd, 2016</td>\n      <td>METAD Agricultural Development plc</td>\n      <td>m</td>\n      <td>1950.0</td>\n      <td>2200.0</td>\n      <td>2075.0</td>\n    </tr>\n  </tbody>\n</table>\n<p>5 rows × 36 columns</p>\n</div>"
     },
     "execution_count": 37,
     "metadata": {},
     "output_type": "execute_result"
    }
   ],
   "source": [
    "# Examine the first five rows of the dataframe\n",
    "df.head()"
   ],
   "metadata": {
    "collapsed": false,
    "ExecuteTime": {
     "end_time": "2023-08-04T13:13:07.546679Z",
     "start_time": "2023-08-04T13:13:07.532959Z"
    }
   },
   "id": "34ac97556e0b4ec2"
  },
  {
   "cell_type": "markdown",
   "source": [
    "### Create the Dataframe\n",
    "\n",
    "1. The keys correspond to the column label\n",
    "2. The values are the list that corresponding to the rows "
   ],
   "metadata": {
    "collapsed": false
   },
   "id": "ec874bb38e5715ef"
  },
  {
   "cell_type": "code",
   "execution_count": 38,
   "outputs": [
    {
     "data": {
      "text/plain": "                       Album  Released     Length\n0                   Thriller      1982   00:42:19\n1              Back in Black      1980   00:42:11\n2  The Dark Side of the Moon      1973   00:42:49\n3              The Bodyguard      1992  00:57:441\n4            Bat Out of Hell      1977   00:46:33",
      "text/html": "<div>\n<style scoped>\n    .dataframe tbody tr th:only-of-type {\n        vertical-align: middle;\n    }\n\n    .dataframe tbody tr th {\n        vertical-align: top;\n    }\n\n    .dataframe thead th {\n        text-align: right;\n    }\n</style>\n<table border=\"1\" class=\"dataframe\">\n  <thead>\n    <tr style=\"text-align: right;\">\n      <th></th>\n      <th>Album</th>\n      <th>Released</th>\n      <th>Length</th>\n    </tr>\n  </thead>\n  <tbody>\n    <tr>\n      <th>0</th>\n      <td>Thriller</td>\n      <td>1982</td>\n      <td>00:42:19</td>\n    </tr>\n    <tr>\n      <th>1</th>\n      <td>Back in Black</td>\n      <td>1980</td>\n      <td>00:42:11</td>\n    </tr>\n    <tr>\n      <th>2</th>\n      <td>The Dark Side of the Moon</td>\n      <td>1973</td>\n      <td>00:42:49</td>\n    </tr>\n    <tr>\n      <th>3</th>\n      <td>The Bodyguard</td>\n      <td>1992</td>\n      <td>00:57:441</td>\n    </tr>\n    <tr>\n      <th>4</th>\n      <td>Bat Out of Hell</td>\n      <td>1977</td>\n      <td>00:46:33</td>\n    </tr>\n  </tbody>\n</table>\n</div>"
     },
     "execution_count": 38,
     "metadata": {},
     "output_type": "execute_result"
    }
   ],
   "source": [
    "songs = {'Album': ['Thriller', 'Back in Black', 'The Dark Side of the Moon', 'The Bodyguard', 'Bat Out of Hell'],\n",
    "         'Released': [1982,1980,1973,1992,1977],\n",
    "         'Length': ['00:42:19' ,'00:42:11', '00:42:49', '00:57:441', '00:46:33']}\n",
    "\n",
    "song_frame = pd.DataFrame(songs)\n",
    "\n",
    "song_frame"
   ],
   "metadata": {
    "collapsed": false,
    "ExecuteTime": {
     "end_time": "2023-08-04T13:13:07.547008Z",
     "start_time": "2023-08-04T13:13:07.540376Z"
    }
   },
   "id": "681b44f87b5cac41"
  },
  {
   "cell_type": "markdown",
   "source": [
    "### Create the new dataframe based on the previous dataframe column\n",
    "- Put the dataframe name and the name of the column header enclosed in double brackets."
   ],
   "metadata": {
    "collapsed": false
   },
   "id": "6216e76831d02876"
  },
  {
   "cell_type": "code",
   "execution_count": 39,
   "outputs": [],
   "source": [
    "# a new dataframe comprised of the original column - Released\n",
    "x = song_frame[['Released']]\n",
    "\n",
    "# can do the same thing to several columns as well\n",
    "y = df[['owner', 'farm_name', 'mill']]"
   ],
   "metadata": {
    "collapsed": false,
    "ExecuteTime": {
     "end_time": "2023-08-04T13:13:07.557168Z",
     "start_time": "2023-08-04T13:13:07.546509Z"
    }
   },
   "id": "91d308276a11d4ae"
  },
  {
   "cell_type": "code",
   "execution_count": 40,
   "outputs": [
    {
     "data": {
      "text/plain": "   Released\n0      1982\n1      1980\n2      1973\n3      1992\n4      1977",
      "text/html": "<div>\n<style scoped>\n    .dataframe tbody tr th:only-of-type {\n        vertical-align: middle;\n    }\n\n    .dataframe tbody tr th {\n        vertical-align: top;\n    }\n\n    .dataframe thead th {\n        text-align: right;\n    }\n</style>\n<table border=\"1\" class=\"dataframe\">\n  <thead>\n    <tr style=\"text-align: right;\">\n      <th></th>\n      <th>Released</th>\n    </tr>\n  </thead>\n  <tbody>\n    <tr>\n      <th>0</th>\n      <td>1982</td>\n    </tr>\n    <tr>\n      <th>1</th>\n      <td>1980</td>\n    </tr>\n    <tr>\n      <th>2</th>\n      <td>1973</td>\n    </tr>\n    <tr>\n      <th>3</th>\n      <td>1992</td>\n    </tr>\n    <tr>\n      <th>4</th>\n      <td>1977</td>\n    </tr>\n  </tbody>\n</table>\n</div>"
     },
     "execution_count": 40,
     "metadata": {},
     "output_type": "execute_result"
    }
   ],
   "source": [
    "x"
   ],
   "metadata": {
    "collapsed": false,
    "ExecuteTime": {
     "end_time": "2023-08-04T13:13:07.558012Z",
     "start_time": "2023-08-04T13:13:07.551118Z"
    }
   },
   "id": "d145e65a26f2fb98"
  },
  {
   "cell_type": "code",
   "execution_count": 41,
   "outputs": [
    {
     "data": {
      "text/plain": "                         owner                                 farm_name  \\\n0                    metad plc                                 metad plc   \n1                    metad plc                                 metad plc   \n2     grounds for health admin  san marcos barrancas \"san cristobal cuch   \n3          yidnekachew dabessa     yidnekachew dabessa coffee plantation   \n4                    metad plc                                 metad plc   \n...                        ...                                       ...   \n1333               luis robles                                 robustasa   \n1334               luis robles                                 robustasa   \n1335               james moore                           fazenda cazengo   \n1336             cafe politico                                       NaN   \n1337             cafe politico                                       NaN   \n\n                mill  \n0          metad plc  \n1          metad plc  \n2                NaN  \n3            wolensu  \n4          metad plc  \n...              ...  \n1333     our own lab  \n1334  own laboratory  \n1335    cafe cazengo  \n1336             NaN  \n1337             NaN  \n\n[1338 rows x 3 columns]",
      "text/html": "<div>\n<style scoped>\n    .dataframe tbody tr th:only-of-type {\n        vertical-align: middle;\n    }\n\n    .dataframe tbody tr th {\n        vertical-align: top;\n    }\n\n    .dataframe thead th {\n        text-align: right;\n    }\n</style>\n<table border=\"1\" class=\"dataframe\">\n  <thead>\n    <tr style=\"text-align: right;\">\n      <th></th>\n      <th>owner</th>\n      <th>farm_name</th>\n      <th>mill</th>\n    </tr>\n  </thead>\n  <tbody>\n    <tr>\n      <th>0</th>\n      <td>metad plc</td>\n      <td>metad plc</td>\n      <td>metad plc</td>\n    </tr>\n    <tr>\n      <th>1</th>\n      <td>metad plc</td>\n      <td>metad plc</td>\n      <td>metad plc</td>\n    </tr>\n    <tr>\n      <th>2</th>\n      <td>grounds for health admin</td>\n      <td>san marcos barrancas \"san cristobal cuch</td>\n      <td>NaN</td>\n    </tr>\n    <tr>\n      <th>3</th>\n      <td>yidnekachew dabessa</td>\n      <td>yidnekachew dabessa coffee plantation</td>\n      <td>wolensu</td>\n    </tr>\n    <tr>\n      <th>4</th>\n      <td>metad plc</td>\n      <td>metad plc</td>\n      <td>metad plc</td>\n    </tr>\n    <tr>\n      <th>...</th>\n      <td>...</td>\n      <td>...</td>\n      <td>...</td>\n    </tr>\n    <tr>\n      <th>1333</th>\n      <td>luis robles</td>\n      <td>robustasa</td>\n      <td>our own lab</td>\n    </tr>\n    <tr>\n      <th>1334</th>\n      <td>luis robles</td>\n      <td>robustasa</td>\n      <td>own laboratory</td>\n    </tr>\n    <tr>\n      <th>1335</th>\n      <td>james moore</td>\n      <td>fazenda cazengo</td>\n      <td>cafe cazengo</td>\n    </tr>\n    <tr>\n      <th>1336</th>\n      <td>cafe politico</td>\n      <td>NaN</td>\n      <td>NaN</td>\n    </tr>\n    <tr>\n      <th>1337</th>\n      <td>cafe politico</td>\n      <td>NaN</td>\n      <td>NaN</td>\n    </tr>\n  </tbody>\n</table>\n<p>1338 rows × 3 columns</p>\n</div>"
     },
     "execution_count": 41,
     "metadata": {},
     "output_type": "execute_result"
    }
   ],
   "source": [
    "y"
   ],
   "metadata": {
    "collapsed": false,
    "ExecuteTime": {
     "end_time": "2023-08-04T13:13:07.564989Z",
     "start_time": "2023-08-04T13:13:07.556494Z"
    }
   },
   "id": "ca8603b6aa82979b"
  },
  {
   "cell_type": "markdown",
   "source": [
    "### Access the specific element\n",
    "1. .iloc[integer location for row, integer location for column]\n",
    "2. .loc[specific name for row, specific name for column] can use slicing as well"
   ],
   "metadata": {
    "collapsed": false
   },
   "id": "24e3a699012f499f"
  },
  {
   "cell_type": "code",
   "execution_count": 42,
   "outputs": [
    {
     "data": {
      "text/plain": "'metad plc'"
     },
     "execution_count": 42,
     "metadata": {},
     "output_type": "execute_result"
    }
   ],
   "source": [
    "# Access the 1st row and 1st column\n",
    "y.iloc[0, 0]"
   ],
   "metadata": {
    "collapsed": false,
    "ExecuteTime": {
     "end_time": "2023-08-04T13:13:07.583009Z",
     "start_time": "2023-08-04T13:13:07.564607Z"
    }
   },
   "id": "a9ea25f4184c0aa4"
  },
  {
   "cell_type": "code",
   "execution_count": 43,
   "outputs": [
    {
     "data": {
      "text/plain": "                      owner                                 farm_name\n0                 metad plc                                 metad plc\n1                 metad plc                                 metad plc\n2  grounds for health admin  san marcos barrancas \"san cristobal cuch\n3       yidnekachew dabessa     yidnekachew dabessa coffee plantation\n4                 metad plc                                 metad plc\n5                 ji-ae ahn                                       NaN",
      "text/html": "<div>\n<style scoped>\n    .dataframe tbody tr th:only-of-type {\n        vertical-align: middle;\n    }\n\n    .dataframe tbody tr th {\n        vertical-align: top;\n    }\n\n    .dataframe thead th {\n        text-align: right;\n    }\n</style>\n<table border=\"1\" class=\"dataframe\">\n  <thead>\n    <tr style=\"text-align: right;\">\n      <th></th>\n      <th>owner</th>\n      <th>farm_name</th>\n    </tr>\n  </thead>\n  <tbody>\n    <tr>\n      <th>0</th>\n      <td>metad plc</td>\n      <td>metad plc</td>\n    </tr>\n    <tr>\n      <th>1</th>\n      <td>metad plc</td>\n      <td>metad plc</td>\n    </tr>\n    <tr>\n      <th>2</th>\n      <td>grounds for health admin</td>\n      <td>san marcos barrancas \"san cristobal cuch</td>\n    </tr>\n    <tr>\n      <th>3</th>\n      <td>yidnekachew dabessa</td>\n      <td>yidnekachew dabessa coffee plantation</td>\n    </tr>\n    <tr>\n      <th>4</th>\n      <td>metad plc</td>\n      <td>metad plc</td>\n    </tr>\n    <tr>\n      <th>5</th>\n      <td>ji-ae ahn</td>\n      <td>NaN</td>\n    </tr>\n  </tbody>\n</table>\n</div>"
     },
     "execution_count": 43,
     "metadata": {},
     "output_type": "execute_result"
    }
   ],
   "source": [
    "# Access the 1st row and 1st column\n",
    "y.loc[0:5, 'owner':'farm_name']"
   ],
   "metadata": {
    "collapsed": false,
    "ExecuteTime": {
     "end_time": "2023-08-04T13:13:07.600455Z",
     "start_time": "2023-08-04T13:13:07.571591Z"
    }
   },
   "id": "4d0968f11b22b066"
  },
  {
   "cell_type": "markdown",
   "source": [
    "### Create a dataframe based on df which the total_cup_points is larger than 80\n",
    "1. look at the total_cup_points for the coffee's total_cup_points larger than 80\n",
    "2. select the corresponding line"
   ],
   "metadata": {
    "collapsed": false
   },
   "id": "2b9dc58092359a5e"
  },
  {
   "cell_type": "code",
   "execution_count": 48,
   "outputs": [],
   "source": [
    "# get a series of boolean numbers\n",
    "# df['total_cup_points'] >= 80\n",
    "\n",
    "df_s = df[df['total_cup_points'] >= 80.00]"
   ],
   "metadata": {
    "collapsed": false,
    "ExecuteTime": {
     "end_time": "2023-08-04T13:27:55.424316Z",
     "start_time": "2023-08-04T13:27:55.417441Z"
    }
   },
   "id": "baaab3e8137c71fd"
  },
  {
   "cell_type": "code",
   "execution_count": 49,
   "outputs": [
    {
     "data": {
      "text/plain": "      total_cup_points  species                     owner country_of_origin  \\\n0                90.58  Arabica                 metad plc          Ethiopia   \n1                89.92  Arabica                 metad plc          Ethiopia   \n2                89.75  Arabica  grounds for health admin         Guatemala   \n3                89.00  Arabica       yidnekachew dabessa          Ethiopia   \n4                88.83  Arabica                 metad plc          Ethiopia   \n...                ...      ...                       ...               ...   \n1327             80.92  Robusta        kawacom uganda ltd            Uganda   \n1328             80.58  Robusta             nitubaasa ltd            Uganda   \n1329             80.50  Robusta     mannya coffee project            Uganda   \n1330             80.17  Robusta             andrew hetzel             India   \n1331             80.17  Robusta             andrew hetzel             India   \n\n                                     farm_name                   mill  \\\n0                                    metad plc              metad plc   \n1                                    metad plc              metad plc   \n2     san marcos barrancas \"san cristobal cuch                    NaN   \n3        yidnekachew dabessa coffee plantation                wolensu   \n4                                    metad plc              metad plc   \n...                                        ...                    ...   \n1327                                  bushenyi                kawacom   \n1328         kigezi coffee farmers association              nitubaasa   \n1329                     mannya coffee project  mannya coffee project   \n1330                        sethuraman estates                    NaN   \n1331                        sethuraman estates     sethuraman estates   \n\n                                    company       altitude        region  \\\n0         metad agricultural developmet plc      1950-2200  guji-hambela   \n1         metad agricultural developmet plc      1950-2200  guji-hambela   \n2                                       NaN  1600 - 1800 m           NaN   \n3     yidnekachew debessa coffee plantation      1800-2200        oromia   \n4         metad agricultural developmet plc      1950-2200  guji-hambela   \n...                                     ...            ...           ...   \n1327                     kawacom uganda ltd           1600       western   \n1328                          nitubaasa ltd           1745       western   \n1329                  mannya coffee project           1200      southern   \n1330                             cafemakers           750m   chikmagalur   \n1331                        cafemakers, llc           750m   chikmagalur   \n\n                                   producer  ... category_one_defects quakers  \\\n0                                 METAD PLC  ...                    0     0.0   \n1                                 METAD PLC  ...                    0     0.0   \n2                                       NaN  ...                    0     0.0   \n3     Yidnekachew Dabessa Coffee Plantation  ...                    0     0.0   \n4                                 METAD PLC  ...                    0     0.0   \n...                                     ...  ...                  ...     ...   \n1327                     Kawacom uganda ltd  ...                    0     0.0   \n1328      Kigezi Coffee Farmers Association  ...                    0     0.0   \n1329                  Mannya coffee project  ...                    0     0.0   \n1330                         Nishant Gurjer  ...                    0     0.0   \n1331                         Nishant Gurjer  ...                    0     0.0   \n\n             color category_two_defects        expiration  \\\n0            Green                    0   April 3rd, 2016   \n1            Green                    1   April 3rd, 2016   \n2              NaN                    0    May 31st, 2011   \n3            Green                    2  March 25th, 2016   \n4            Green                    2   April 3rd, 2016   \n...            ...                  ...               ...   \n1327         Green                    1   June 27th, 2015   \n1328         Green                    2   June 27th, 2015   \n1329         Green                    1   June 27th, 2015   \n1330  Bluish-Green                    1    May 19th, 2015   \n1331         Green                    0   June 20th, 2014   \n\n                       certification_body  unit_of_measurement  \\\n0      METAD Agricultural Development plc                    m   \n1      METAD Agricultural Development plc                    m   \n2            Specialty Coffee Association                    m   \n3      METAD Agricultural Development plc                    m   \n4      METAD Agricultural Development plc                    m   \n...                                   ...                  ...   \n1327  Uganda Coffee Development Authority                    m   \n1328  Uganda Coffee Development Authority                    m   \n1329  Uganda Coffee Development Authority                    m   \n1330         Specialty Coffee Association                    m   \n1331         Specialty Coffee Association                    m   \n\n      altitude_low_meters  altitude_high_meters  altitude_mean_meters  \n0                  1950.0                2200.0                2075.0  \n1                  1950.0                2200.0                2075.0  \n2                  1600.0                1800.0                1700.0  \n3                  1800.0                2200.0                2000.0  \n4                  1950.0                2200.0                2075.0  \n...                   ...                   ...                   ...  \n1327               1600.0                1600.0                1600.0  \n1328               1745.0                1745.0                1745.0  \n1329               1200.0                1200.0                1200.0  \n1330                750.0                 750.0                 750.0  \n1331                750.0                 750.0                 750.0  \n\n[1152 rows x 36 columns]",
      "text/html": "<div>\n<style scoped>\n    .dataframe tbody tr th:only-of-type {\n        vertical-align: middle;\n    }\n\n    .dataframe tbody tr th {\n        vertical-align: top;\n    }\n\n    .dataframe thead th {\n        text-align: right;\n    }\n</style>\n<table border=\"1\" class=\"dataframe\">\n  <thead>\n    <tr style=\"text-align: right;\">\n      <th></th>\n      <th>total_cup_points</th>\n      <th>species</th>\n      <th>owner</th>\n      <th>country_of_origin</th>\n      <th>farm_name</th>\n      <th>mill</th>\n      <th>company</th>\n      <th>altitude</th>\n      <th>region</th>\n      <th>producer</th>\n      <th>...</th>\n      <th>category_one_defects</th>\n      <th>quakers</th>\n      <th>color</th>\n      <th>category_two_defects</th>\n      <th>expiration</th>\n      <th>certification_body</th>\n      <th>unit_of_measurement</th>\n      <th>altitude_low_meters</th>\n      <th>altitude_high_meters</th>\n      <th>altitude_mean_meters</th>\n    </tr>\n  </thead>\n  <tbody>\n    <tr>\n      <th>0</th>\n      <td>90.58</td>\n      <td>Arabica</td>\n      <td>metad plc</td>\n      <td>Ethiopia</td>\n      <td>metad plc</td>\n      <td>metad plc</td>\n      <td>metad agricultural developmet plc</td>\n      <td>1950-2200</td>\n      <td>guji-hambela</td>\n      <td>METAD PLC</td>\n      <td>...</td>\n      <td>0</td>\n      <td>0.0</td>\n      <td>Green</td>\n      <td>0</td>\n      <td>April 3rd, 2016</td>\n      <td>METAD Agricultural Development plc</td>\n      <td>m</td>\n      <td>1950.0</td>\n      <td>2200.0</td>\n      <td>2075.0</td>\n    </tr>\n    <tr>\n      <th>1</th>\n      <td>89.92</td>\n      <td>Arabica</td>\n      <td>metad plc</td>\n      <td>Ethiopia</td>\n      <td>metad plc</td>\n      <td>metad plc</td>\n      <td>metad agricultural developmet plc</td>\n      <td>1950-2200</td>\n      <td>guji-hambela</td>\n      <td>METAD PLC</td>\n      <td>...</td>\n      <td>0</td>\n      <td>0.0</td>\n      <td>Green</td>\n      <td>1</td>\n      <td>April 3rd, 2016</td>\n      <td>METAD Agricultural Development plc</td>\n      <td>m</td>\n      <td>1950.0</td>\n      <td>2200.0</td>\n      <td>2075.0</td>\n    </tr>\n    <tr>\n      <th>2</th>\n      <td>89.75</td>\n      <td>Arabica</td>\n      <td>grounds for health admin</td>\n      <td>Guatemala</td>\n      <td>san marcos barrancas \"san cristobal cuch</td>\n      <td>NaN</td>\n      <td>NaN</td>\n      <td>1600 - 1800 m</td>\n      <td>NaN</td>\n      <td>NaN</td>\n      <td>...</td>\n      <td>0</td>\n      <td>0.0</td>\n      <td>NaN</td>\n      <td>0</td>\n      <td>May 31st, 2011</td>\n      <td>Specialty Coffee Association</td>\n      <td>m</td>\n      <td>1600.0</td>\n      <td>1800.0</td>\n      <td>1700.0</td>\n    </tr>\n    <tr>\n      <th>3</th>\n      <td>89.00</td>\n      <td>Arabica</td>\n      <td>yidnekachew dabessa</td>\n      <td>Ethiopia</td>\n      <td>yidnekachew dabessa coffee plantation</td>\n      <td>wolensu</td>\n      <td>yidnekachew debessa coffee plantation</td>\n      <td>1800-2200</td>\n      <td>oromia</td>\n      <td>Yidnekachew Dabessa Coffee Plantation</td>\n      <td>...</td>\n      <td>0</td>\n      <td>0.0</td>\n      <td>Green</td>\n      <td>2</td>\n      <td>March 25th, 2016</td>\n      <td>METAD Agricultural Development plc</td>\n      <td>m</td>\n      <td>1800.0</td>\n      <td>2200.0</td>\n      <td>2000.0</td>\n    </tr>\n    <tr>\n      <th>4</th>\n      <td>88.83</td>\n      <td>Arabica</td>\n      <td>metad plc</td>\n      <td>Ethiopia</td>\n      <td>metad plc</td>\n      <td>metad plc</td>\n      <td>metad agricultural developmet plc</td>\n      <td>1950-2200</td>\n      <td>guji-hambela</td>\n      <td>METAD PLC</td>\n      <td>...</td>\n      <td>0</td>\n      <td>0.0</td>\n      <td>Green</td>\n      <td>2</td>\n      <td>April 3rd, 2016</td>\n      <td>METAD Agricultural Development plc</td>\n      <td>m</td>\n      <td>1950.0</td>\n      <td>2200.0</td>\n      <td>2075.0</td>\n    </tr>\n    <tr>\n      <th>...</th>\n      <td>...</td>\n      <td>...</td>\n      <td>...</td>\n      <td>...</td>\n      <td>...</td>\n      <td>...</td>\n      <td>...</td>\n      <td>...</td>\n      <td>...</td>\n      <td>...</td>\n      <td>...</td>\n      <td>...</td>\n      <td>...</td>\n      <td>...</td>\n      <td>...</td>\n      <td>...</td>\n      <td>...</td>\n      <td>...</td>\n      <td>...</td>\n      <td>...</td>\n      <td>...</td>\n    </tr>\n    <tr>\n      <th>1327</th>\n      <td>80.92</td>\n      <td>Robusta</td>\n      <td>kawacom uganda ltd</td>\n      <td>Uganda</td>\n      <td>bushenyi</td>\n      <td>kawacom</td>\n      <td>kawacom uganda ltd</td>\n      <td>1600</td>\n      <td>western</td>\n      <td>Kawacom uganda ltd</td>\n      <td>...</td>\n      <td>0</td>\n      <td>0.0</td>\n      <td>Green</td>\n      <td>1</td>\n      <td>June 27th, 2015</td>\n      <td>Uganda Coffee Development Authority</td>\n      <td>m</td>\n      <td>1600.0</td>\n      <td>1600.0</td>\n      <td>1600.0</td>\n    </tr>\n    <tr>\n      <th>1328</th>\n      <td>80.58</td>\n      <td>Robusta</td>\n      <td>nitubaasa ltd</td>\n      <td>Uganda</td>\n      <td>kigezi coffee farmers association</td>\n      <td>nitubaasa</td>\n      <td>nitubaasa ltd</td>\n      <td>1745</td>\n      <td>western</td>\n      <td>Kigezi Coffee Farmers Association</td>\n      <td>...</td>\n      <td>0</td>\n      <td>0.0</td>\n      <td>Green</td>\n      <td>2</td>\n      <td>June 27th, 2015</td>\n      <td>Uganda Coffee Development Authority</td>\n      <td>m</td>\n      <td>1745.0</td>\n      <td>1745.0</td>\n      <td>1745.0</td>\n    </tr>\n    <tr>\n      <th>1329</th>\n      <td>80.50</td>\n      <td>Robusta</td>\n      <td>mannya coffee project</td>\n      <td>Uganda</td>\n      <td>mannya coffee project</td>\n      <td>mannya coffee project</td>\n      <td>mannya coffee project</td>\n      <td>1200</td>\n      <td>southern</td>\n      <td>Mannya coffee project</td>\n      <td>...</td>\n      <td>0</td>\n      <td>0.0</td>\n      <td>Green</td>\n      <td>1</td>\n      <td>June 27th, 2015</td>\n      <td>Uganda Coffee Development Authority</td>\n      <td>m</td>\n      <td>1200.0</td>\n      <td>1200.0</td>\n      <td>1200.0</td>\n    </tr>\n    <tr>\n      <th>1330</th>\n      <td>80.17</td>\n      <td>Robusta</td>\n      <td>andrew hetzel</td>\n      <td>India</td>\n      <td>sethuraman estates</td>\n      <td>NaN</td>\n      <td>cafemakers</td>\n      <td>750m</td>\n      <td>chikmagalur</td>\n      <td>Nishant Gurjer</td>\n      <td>...</td>\n      <td>0</td>\n      <td>0.0</td>\n      <td>Bluish-Green</td>\n      <td>1</td>\n      <td>May 19th, 2015</td>\n      <td>Specialty Coffee Association</td>\n      <td>m</td>\n      <td>750.0</td>\n      <td>750.0</td>\n      <td>750.0</td>\n    </tr>\n    <tr>\n      <th>1331</th>\n      <td>80.17</td>\n      <td>Robusta</td>\n      <td>andrew hetzel</td>\n      <td>India</td>\n      <td>sethuraman estates</td>\n      <td>sethuraman estates</td>\n      <td>cafemakers, llc</td>\n      <td>750m</td>\n      <td>chikmagalur</td>\n      <td>Nishant Gurjer</td>\n      <td>...</td>\n      <td>0</td>\n      <td>0.0</td>\n      <td>Green</td>\n      <td>0</td>\n      <td>June 20th, 2014</td>\n      <td>Specialty Coffee Association</td>\n      <td>m</td>\n      <td>750.0</td>\n      <td>750.0</td>\n      <td>750.0</td>\n    </tr>\n  </tbody>\n</table>\n<p>1152 rows × 36 columns</p>\n</div>"
     },
     "execution_count": 49,
     "metadata": {},
     "output_type": "execute_result"
    }
   ],
   "source": [
    "df_s"
   ],
   "metadata": {
    "collapsed": false,
    "ExecuteTime": {
     "end_time": "2023-08-04T13:28:08.304736Z",
     "start_time": "2023-08-04T13:28:08.281354Z"
    }
   },
   "id": "6d495c3d78a8b83d"
  },
  {
   "cell_type": "markdown",
   "source": [
    "### Save as csv doc\n",
    "- .to_csv('name.csv')"
   ],
   "metadata": {
    "collapsed": false
   },
   "id": "13f16b7683a30da2"
  }
 ],
 "metadata": {
  "kernelspec": {
   "display_name": "Python 3",
   "language": "python",
   "name": "python3"
  },
  "language_info": {
   "codemirror_mode": {
    "name": "ipython",
    "version": 2
   },
   "file_extension": ".py",
   "mimetype": "text/x-python",
   "name": "python",
   "nbconvert_exporter": "python",
   "pygments_lexer": "ipython2",
   "version": "2.7.6"
  }
 },
 "nbformat": 4,
 "nbformat_minor": 5
}
