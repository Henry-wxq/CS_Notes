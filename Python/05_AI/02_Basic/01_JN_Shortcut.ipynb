{
 "cells": [
  {
   "cell_type": "markdown",
   "source": [
    "### 两种通用模式快捷键\n",
    "1. Shift + Enter：执行本单元代码并跳转到下一单元\n",
    "2. Ctrl + Enter：执行本单元代码并留在本单元\n",
    "3. 若cell前有*则说明本单元代码正在运行\n",
    "4. Crtl + Option + Shift + Enter: 执行全部代码"
   ],
   "metadata": {
    "collapsed": false
   }
  },
  {
   "cell_type": "markdown",
   "source": [
    "### 命令模式：按ESC进入\n",
    "1. Y：cell切换到Code模式\n",
    "2. M：cell切换到Markdown模式\n",
    "3. A：在当前的cell的上面添加cell\n",
    "4. B：在当前的cell的下面添加cell\n",
    "5. 双击D：删除当前cell"
   ],
   "metadata": {
    "collapsed": false
   }
  },
  {
   "cell_type": "markdown",
   "source": [
    "### 编辑模式：按Enter进入\n",
    "1. 跟常规方式一样"
   ],
   "metadata": {
    "collapsed": false
   }
  },
  {
   "cell_type": "markdown",
   "source": [
    "# Markdown演示\n",
    "# 一级标题\n",
    "## 二级标题\n",
    "### 三级标题\n",
    "- 一级缩进\n",
    "    - 二级缩进\n",
    "        - 三级缩进\n"
   ],
   "metadata": {
    "collapsed": false
   }
  }
 ],
 "metadata": {
  "kernelspec": {
   "display_name": "Python 3",
   "language": "python",
   "name": "python3"
  },
  "language_info": {
   "codemirror_mode": {
    "name": "ipython",
    "version": 2
   },
   "file_extension": ".py",
   "mimetype": "text/x-python",
   "name": "python",
   "nbconvert_exporter": "python",
   "pygments_lexer": "ipython2",
   "version": "2.7.6"
  }
 },
 "nbformat": 4,
 "nbformat_minor": 0
}
