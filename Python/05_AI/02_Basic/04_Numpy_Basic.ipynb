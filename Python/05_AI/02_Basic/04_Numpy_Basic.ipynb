{
 "cells": [
  {
   "cell_type": "markdown",
   "source": [
    "## Numpy\n",
    "- 用于快速处理任意纬度的数组\n",
    "- Numpy中，存储对象是ndarray\n"
   ],
   "metadata": {
    "collapsed": false
   }
  },
  {
   "cell_type": "markdown",
   "source": [
    "### Numpy优势\n",
    "1. 内存块风格\n",
    "    - Python List: 分类式存储，即内存地址与数据分开，所以同一list内可以存数字和字符串\n",
    "    - ndarray: 直接存入数据\n",
    "2. ndarray支持并行化运算(向量化运算)\n",
    "3. 效率远高于纯python代码\n",
    "    - Numpy底层使用C语言编写，内部解除了GIL锁，对数组的操作速度不受Python解释器的限制"
   ],
   "metadata": {
    "collapsed": false
   }
  },
  {
   "cell_type": "markdown",
   "source": [
    "### 原生list运算效率对比"
   ],
   "metadata": {
    "collapsed": false
   }
  },
  {
   "cell_type": "code",
   "execution_count": 15,
   "outputs": [
    {
     "name": "stdout",
     "output_type": "stream",
     "text": [
      "CPU times: user 356 ms, sys: 784 ms, total: 1.14 s\n",
      "Wall time: 1.47 s\n",
      "CPU times: user 38.9 ms, sys: 27.6 ms, total: 66.5 ms\n",
      "Wall time: 68.1 ms\n"
     ]
    }
   ],
   "source": [
    "import random\n",
    "import numpy as np\n",
    "a = []\n",
    "for i in range(100000000):\n",
    "    a.append(random.random())\n",
    "\n",
    "# 通过time魔法方法，查看当前代码运行一次所花费的时间\n",
    "%time sum1 = sum(a)\n",
    "\n",
    "b = np.array(a)\n",
    "\n",
    "%time sum2 = np.sum(b)"
   ],
   "metadata": {
    "collapsed": false,
    "ExecuteTime": {
     "end_time": "2023-06-26T00:08:15.904935Z",
     "start_time": "2023-06-26T00:08:03.490892Z"
    }
   }
  },
  {
   "cell_type": "markdown",
   "source": [
    "## 创建\n",
    "- np.array([])"
   ],
   "metadata": {
    "collapsed": false
   }
  },
  {
   "cell_type": "code",
   "execution_count": 16,
   "outputs": [],
   "source": [
    "import numpy as np"
   ],
   "metadata": {
    "collapsed": false,
    "ExecuteTime": {
     "end_time": "2023-06-26T00:08:15.908550Z",
     "start_time": "2023-06-26T00:08:15.906470Z"
    }
   }
  },
  {
   "cell_type": "code",
   "execution_count": 17,
   "outputs": [],
   "source": [
    "score = np.array([[12, 13, 14, 15, 16], [23, 24, 25, 26, 27], [34, 35, 36, 37, 38], [45, 46, 47, 48, 49], [51, 52, 53, 54, 55]])"
   ],
   "metadata": {
    "collapsed": false,
    "ExecuteTime": {
     "end_time": "2023-06-26T00:08:15.911542Z",
     "start_time": "2023-06-26T00:08:15.907793Z"
    }
   }
  },
  {
   "cell_type": "code",
   "execution_count": 18,
   "outputs": [
    {
     "data": {
      "text/plain": "array([[12, 13, 14, 15, 16],\n       [23, 24, 25, 26, 27],\n       [34, 35, 36, 37, 38],\n       [45, 46, 47, 48, 49],\n       [51, 52, 53, 54, 55]])"
     },
     "execution_count": 18,
     "metadata": {},
     "output_type": "execute_result"
    }
   ],
   "source": [
    "score"
   ],
   "metadata": {
    "collapsed": false,
    "ExecuteTime": {
     "end_time": "2023-06-26T00:08:15.916133Z",
     "start_time": "2023-06-26T00:08:15.914003Z"
    }
   }
  }
 ],
 "metadata": {
  "kernelspec": {
   "display_name": "Python 3",
   "language": "python",
   "name": "python3"
  },
  "language_info": {
   "codemirror_mode": {
    "name": "ipython",
    "version": 2
   },
   "file_extension": ".py",
   "mimetype": "text/x-python",
   "name": "python",
   "nbconvert_exporter": "python",
   "pygments_lexer": "ipython2",
   "version": "2.7.6"
  }
 },
 "nbformat": 4,
 "nbformat_minor": 0
}
