{
 "cells": [
  {
   "metadata": {},
   "cell_type": "markdown",
   "source": [
    "## Add Jupyter Notebook into Path\n",
    "\n",
    "1. Edit your shell configuration file\n",
    "\n",
    "    `nano ~/.zshrc`\n",
    "\n",
    "2. Add\n",
    "\n",
    "    `export PATH=\"$HOME/Library/Python/3.9/bin:$PATH\"`\n",
    "\n",
    "3. Ctrl + X; Y; Enter\n",
    "\n",
    "4. Reload the shell configuration\n",
    "\n",
    "    `source ~/.zshrc`"
   ],
   "id": "e4d32bf27ab26474"
  }
 ],
 "metadata": {
  "kernelspec": {
   "display_name": "Python 3",
   "language": "python",
   "name": "python3"
  },
  "language_info": {
   "codemirror_mode": {
    "name": "ipython",
    "version": 2
   },
   "file_extension": ".py",
   "mimetype": "text/x-python",
   "name": "python",
   "nbconvert_exporter": "python",
   "pygments_lexer": "ipython2",
   "version": "2.7.6"
  }
 },
 "nbformat": 4,
 "nbformat_minor": 5
}
