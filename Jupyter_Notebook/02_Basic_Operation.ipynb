{
 "cells": [
  {
   "metadata": {},
   "cell_type": "markdown",
   "source": [
    "## Stop JN Server from the Command Line:\n",
    "\n",
    "1. Go back to the terminal where your Jupyter server is running.\n",
    "2. Press Ctrl+C a couple of times to interrupt the server.\n",
    "3. Confirm the shutdown by typing y when prompted."
   ],
   "id": "40000d86b791f357"
  }
 ],
 "metadata": {
  "kernelspec": {
   "display_name": "Python 3",
   "language": "python",
   "name": "python3"
  },
  "language_info": {
   "codemirror_mode": {
    "name": "ipython",
    "version": 2
   },
   "file_extension": ".py",
   "mimetype": "text/x-python",
   "name": "python",
   "nbconvert_exporter": "python",
   "pygments_lexer": "ipython2",
   "version": "2.7.6"
  }
 },
 "nbformat": 4,
 "nbformat_minor": 5
}
