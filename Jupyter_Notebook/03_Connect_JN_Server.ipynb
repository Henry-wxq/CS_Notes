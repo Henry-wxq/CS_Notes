{
 "cells": [
  {
   "metadata": {},
   "cell_type": "markdown",
   "source": [
    "## Connect to JN Server\n",
    "\n",
    "1. Go to File Settings: In DataSpell, navigate to File > Settings for Windows/Linux or DataSpell > Preferences for macOS.\n",
    "2. Search Jupyter Server\n",
    "3. Configure the Server Settings    \n",
    "    1. Choose whether to connect to a local server or a remote one. For a local server, select Existing server.\n",
    "    2. Input the URL you obtained from the terminal where your Jupyter server is running. This URL should include the token query parameter, which looks something like http://127.0.0.1:8888/?token=your_token_here.\n",
    "4. Test the Connection:\n",
    "    1. Use the Test Connection button to ensure that DataSpell can connect to the Jupyter server. If everything is configured correctly, you should see a message confirming that the connection was successful.\n",
    "5. Apply and OK: Click Apply to save your settings, then OK to close the dialog."
   ],
   "id": "f22c03a55c30ff3d"
  }
 ],
 "metadata": {
  "kernelspec": {
   "display_name": "Python 3",
   "language": "python",
   "name": "python3"
  },
  "language_info": {
   "codemirror_mode": {
    "name": "ipython",
    "version": 2
   },
   "file_extension": ".py",
   "mimetype": "text/x-python",
   "name": "python",
   "nbconvert_exporter": "python",
   "pygments_lexer": "ipython2",
   "version": "2.7.6"
  }
 },
 "nbformat": 4,
 "nbformat_minor": 5
}
